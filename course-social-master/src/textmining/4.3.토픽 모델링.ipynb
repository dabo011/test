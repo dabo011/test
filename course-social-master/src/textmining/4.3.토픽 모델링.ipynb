{
 "cells": [
  {
   "cell_type": "markdown",
   "metadata": {},
   "source": [
    "## 토픽 모델링\n",
    "- 구조화되지 않은 방대한 문헌집단에서 주제를 찾아내기 위한 알고리즘\n",
    "- 맥락과 관련된 단서들을 이용하여 의미를 가진 단어들을 클러스터링하여 주제를 추론하는 모델\n",
    "- 감성 분석, 소셜 네트워크 분석 등의 타 분석모델과도 혼합하여 자주 쓰임\n",
    "\n",
    "### LDA(Latent Dirichlet Allocation)\n",
    "- 단어 교환성 가정\n",
    "  - 교환성은 단어들의 순서는 상관하지 않고 오로지 단어들의 유무만이 중요하다는 가정\n",
    "    - 단어들의 순서를 무시할 경우 문서는 단순히 그 안에 포하하는 단어들의 빈도수만을 가지고 표현할 수 있음\n",
    "- 각각의 문서는 여러 개의 주제를 가지고 있음\n",
    "  - [빅데이터, 알고리즘, AI, IoT] -> 데이터 사이언스에 관련된 내용\n",
    "  - [셰익스피어, 톨스토이, 파우스트] -> 문학과 관련된 내용\n",
    "- 자세한 내용은 다음 논문을 참고\n",
    "  - Blei, D. M., Ng, A. Y., & Jordan, M. I. (2003). Latent Dirichlet Allocation. Journal of Machine Learning Research, 3(Jan), 993-1022.\n",
    "- pip install gensim"
   ]
  },
  {
   "cell_type": "code",
   "execution_count": 1,
   "metadata": {},
   "outputs": [],
   "source": [
    "from nltk.corpus import stopwords\n",
    "from nltk.stem.porter import PorterStemmer\n",
    "from gensim import corpora, models\n",
    "import gensim\n",
    "from nltk.tokenize import RegexpTokenizer\n",
    "\n",
    "tokenizer = RegexpTokenizer('[\\w]+')\n",
    "stop_words = stopwords.words('english')\n",
    "p_stemmer = PorterStemmer()"
   ]
  },
  {
   "cell_type": "code",
   "execution_count": 2,
   "metadata": {},
   "outputs": [],
   "source": [
    "doc_a = \"Brocolli is good to eat. My brother likes to eat good brocolli, but not my mother.\"\n",
    "doc_b = \"My mother spends a lot of time driving my brother around to baseball practice.\"\n",
    "doc_c = \"Some health experts suggest that driving may cause increased tension and blood pressure.\"\n",
    "doc_d = \"I often feel pressure to perform well at school, but my mother never seems to drive my brother to do better.\"\n",
    "doc_e = \"Health professionals say that brocolli is good for your health.\"\n",
    "doc_f = \"Big data is a term used to refer to data sets that are too large or complex for traditional data-processing application software to adequately deal with.\"\n",
    "doc_g = \"Data with many cases offer greater statistical power, while data with higher complexity may lead to a higher false discovery rate.\"\n",
    "doc_h = \"Big data was originally associated with three key concepts: volume, variety, and velocity.\"\n",
    "doc_i = \"A 2016 definition states that 'Big data represents the information assets characterized by such a high volume, velocity and variety to require specific technology and analytical methods for its transformation into value'.\"\n",
    "doc_j = \"Data must be processed with advanced tools to reveal meaningful information.\""
   ]
  },
  {
   "cell_type": "code",
   "execution_count": 3,
   "metadata": {},
   "outputs": [],
   "source": [
    "doc_set = [doc_a, doc_b, doc_c, doc_d, doc_e, doc_f, doc_g, doc_h, doc_i, doc_j]\n",
    "texts = []\n",
    "\n",
    "# 문서별 단어 넣기(소문자화, 토크나이징, 불용어 제거, 어근추출)\n",
    "for w in doc_set:\n",
    "    raw = w.lower()\n",
    "    tokens = tokenizer.tokenize(raw)\n",
    "    stopped_tokens = [i for i in tokens if not i in stop_words]\n",
    "    stemmed_tokens = [p_stemmer.stem(i) for i in stopped_tokens]\n",
    "    texts.append(stemmed_tokens)"
   ]
  },
  {
   "cell_type": "code",
   "execution_count": 5,
   "metadata": {},
   "outputs": [
    {
     "data": {
      "text/plain": [
       "{'brocolli': 0,\n",
       " 'brother': 1,\n",
       " 'eat': 2,\n",
       " 'good': 3,\n",
       " 'like': 4,\n",
       " 'mother': 5,\n",
       " 'around': 6,\n",
       " 'basebal': 7,\n",
       " 'drive': 8,\n",
       " 'lot': 9}"
      ]
     },
     "execution_count": 5,
     "metadata": {},
     "output_type": "execute_result"
    }
   ],
   "source": [
    "# 문서의 단어들을 사전형(단어토큰:ID)으로 변경\n",
    "dictionary = corpora.Dictionary(texts)\n",
    "# 앞 10개의 단어토큰 결과 보기\n",
    "dict(list(dictionary.token2id.items())[0:10])"
   ]
  },
  {
   "cell_type": "code",
   "execution_count": 6,
   "metadata": {},
   "outputs": [
    {
     "data": {
      "text/plain": [
       "[[(0, 2), (1, 1), (2, 2), (3, 2), (4, 1), (5, 1)],\n",
       " [(1, 1), (5, 1), (6, 1), (7, 1), (8, 1), (9, 1), (10, 1), (11, 1), (12, 1)],\n",
       " [(8, 1),\n",
       "  (13, 1),\n",
       "  (14, 1),\n",
       "  (15, 1),\n",
       "  (16, 1),\n",
       "  (17, 1),\n",
       "  (18, 1),\n",
       "  (19, 1),\n",
       "  (20, 1),\n",
       "  (21, 1)]]"
      ]
     },
     "execution_count": 6,
     "metadata": {},
     "output_type": "execute_result"
    }
   ],
   "source": [
    "# 문서-단어 매트릭스 형성 (bow: bag-of-words)\n",
    "# 문서를 단어토큰의 ID와 빈도수로 수치화\n",
    "corpus = [dictionary.doc2bow(text) for text in texts]\n",
    "# (단어토큰의 ID, 해당 문서에 발생한 빈도수) 앞 3개 문서 결과 보기\n",
    "corpus[0:3]"
   ]
  },
  {
   "cell_type": "code",
   "execution_count": 7,
   "metadata": {},
   "outputs": [
    {
     "data": {
      "text/plain": [
       "[(0,\n",
       "  '0.069*\"data\" + 0.025*\"complex\" + 0.025*\"big\" + 0.025*\"higher\" + 0.024*\"health\"'),\n",
       " (1,\n",
       "  '0.039*\"data\" + 0.032*\"inform\" + 0.032*\"process\" + 0.032*\"advanc\" + 0.032*\"tool\"'),\n",
       " (2,\n",
       "  '0.041*\"mother\" + 0.040*\"brother\" + 0.039*\"drive\" + 0.033*\"good\" + 0.033*\"brocolli\"')]"
      ]
     },
     "execution_count": 7,
     "metadata": {},
     "output_type": "execute_result"
    }
   ],
   "source": [
    "# LDA 모형(토픽개수: 3)\n",
    "ldamodel = gensim.models.ldamodel.LdaModel(corpus, num_topics=3, id2word=dictionary)\n",
    "\n",
    "# 토픽별 단어들 출력(토픽별 출력단어들 개수: 5개)\n",
    "# 단어 옆의 숫자는 가중치(각 토픽에서 해당 단어가 설명하는 비중) 의미\n",
    "ldamodel.print_topics(num_words=5)"
   ]
  },
  {
   "cell_type": "code",
   "execution_count": 15,
   "metadata": {},
   "outputs": [
    {
     "name": "stdout",
     "output_type": "stream",
     "text": [
      "[(0, 0.03423952), (1, 0.033674233), (2, 0.9320862)]\n",
      "[(0, 0.0340518), (1, 0.033765364), (2, 0.93218285)]\n",
      "[(0, 0.031582706), (1, 0.03076919), (2, 0.93764806)]\n",
      "[(0, 0.027355487), (1, 0.026097974), (2, 0.94654655)]\n",
      "[(0, 0.8557131), (1, 0.049259424), (2, 0.0950274)]\n",
      "[(0, 0.95953655), (1, 0.020552335), (2, 0.01991113)]\n",
      "[(0, 0.9597657), (1, 0.02018734), (2, 0.02004706)]\n",
      "[(0, 0.04305317), (1, 0.037637208), (2, 0.9193097)]\n",
      "[(0, 0.9667063), (1, 0.016811946), (2, 0.016481789)]\n",
      "[(0, 0.039611526), (1, 0.922948), (2, 0.037440527)]\n"
     ]
    }
   ],
   "source": [
    "# 문서별 토픽 분포(i번째 문서에 토픽 0~2의 분포)\n",
    "# 모든 토픽의 분포 확률의 합은 1\n",
    "for i in range(len(texts)):\n",
    "    print(ldamodel.get_document_topics(corpus)[i])"
   ]
  },
  {
   "cell_type": "markdown",
   "metadata": {},
   "source": [
    "### LDA 토픽 개수 지정\n",
    "- 대량의 문서에서 가장 적절한 토픽의 개수를 넣어야 모델의 결과를 신뢰할 수 있음\n",
    "- 사전에 가장 적절한 토픽 개수를 알고 있거나 또는 사전에 미리 분류해야 할 개수를 알고 있으면 그 개수로 지정해주면 됨\n",
    "- 하지만 대부분의 연구에서 이러한 사전정보를 갖고 있지 않아 통계적 방법으로 최적의 토픽 개수를 구함\n",
    "- 토픽 개수 구하는 통계적 방법\n",
    "  - perplexity\n",
    "    - 사전적 의미: 당혹, 혼란, 곤혹\n",
    "    - 혼란도\n",
    "    - 특정 확률모델이 실제로 관측되는 값을 얼마나 잘 예측하는지 평가할 때 사용\n",
    "    - 토픽 개수를 늘릴수록 perplexity는 감소하는 경향을 보임\n",
    "    - 특정 토픽 개수 지점을 지나면 더 이상 perplexity는 감소하지 않고 수렴하는 지점이 등장하는데 이 때의 perplexity가 해당 모델의 최종 perplexity로 봄\n",
    "    - perplexity가 작으면 작을수록 해당 토픽 모델은 실제 문헌 결과를  잘 반영한다는 뜻이므로 학습이 잘 되었다고 평가할 수 있음\n",
    "  - topic coherence\n",
    "    - 실제로 사람이 해석하기에 적합한 평가 척도를 만들기 위해서 제시된 척도\n",
    "    - 우선 토픽 모델링 결과로 나온 주제들에 대해 각각의 주제에서 상위 N개의 단어를 뽑음\n",
    "    - 모델링이 잘 되었을수록 한 주제 안에서 의미론적으로 유사한 단어가 많이 모여있게 마련임\n",
    "    - 따라서 상위 단어 간의 유사도를 계산하여 평균을 구하면 실제로 해당 주제가 의미론적으로 일치하는 단어들끼리 모여있는지 알 수 있음  "
   ]
  },
  {
   "cell_type": "code",
   "execution_count": 16,
   "metadata": {},
   "outputs": [
    {
     "name": "stdout",
     "output_type": "stream",
     "text": [
      "\n",
      "Perplexity:  -5.043575742635234\n",
      "\n",
      "Coherence Score:  0.43936379168979417\n"
     ]
    }
   ],
   "source": [
    "from gensim.models import CoherenceModel\n",
    "print('\\nPerplexity: ', ldamodel.log_perplexity(corpus))\n",
    "# toppn: 상위 N개의 단어를 이용하여 유사도를 계산하라는 의미\n",
    "coherence_model_lda = CoherenceModel(model=ldamodel, texts=texts, dictionary=dictionary, topn=10)\n",
    "coherence_lda = coherence_model_lda.get_coherence()\n",
    "print('\\nCoherence Score: ', coherence_lda)"
   ]
  },
  {
   "cell_type": "code",
   "execution_count": 17,
   "metadata": {},
   "outputs": [],
   "source": [
    "import matplotlib.pyplot as plt\n",
    "\n",
    "# 토픽의 개수를 달리하며 perplexity 지표 변화를 보여줌\n",
    "perplexity_values = []\n",
    "for i in range(2, 10):\n",
    "    ldamodel = gensim.models.ldamodel.LdaModel(corpus, num_topics=i, id2word=dictionary)\n",
    "    perplexity_values.append(ldamodel.log_perplexity(corpus))"
   ]
  },
  {
   "cell_type": "code",
   "execution_count": 18,
   "metadata": {},
   "outputs": [
    {
     "data": {
      "image/png": "[encoded data removed]",
      "text/plain": [
       "<Figure size 432x288 with 1 Axes>"
      ]
     },
     "metadata": {
      "needs_background": "light"
     },
     "output_type": "display_data"
    }
   ],
   "source": [
    "x = range(2, 10)\n",
    "plt.plot(x, perplexity_values)\n",
    "plt.xlabel(\"Number of topics\")\n",
    "plt.ylabel(\"Perplexity score\")\n",
    "plt.show()"
   ]
  },
  {
   "cell_type": "code",
   "execution_count": 19,
   "metadata": {},
   "outputs": [],
   "source": [
    "# 토픽의 개수를 달리하며 topic coherence 지표 변화를 보여줌\n",
    "coherence_values = []\n",
    "for i in range(2, 10):\n",
    "    ldamodel = gensim.models.ldamodel.LdaModel(corpus, num_topics=i, id2word=dictionary)\n",
    "    coherence_model_lda = CoherenceModel(model=ldamodel, texts=texts, dictionary=dictionary, topn=10)\n",
    "    coherence_lda = coherence_model_lda.get_coherence()\n",
    "    coherence_values.append(coherence_lda)"
   ]
  },
  {
   "cell_type": "code",
   "execution_count": 20,
   "metadata": {},
   "outputs": [
    {
     "data": {
      "image/png": "[encoded data removed]",
      "text/plain": [
       "<Figure size 432x288 with 1 Axes>"
      ]
     },
     "metadata": {
      "needs_background": "light"
     },
     "output_type": "display_data"
    }
   ],
   "source": [
    "x = range(2, 10)\n",
    "plt.plot(x, coherence_values)\n",
    "plt.xlabel(\"Number of topics\")\n",
    "plt.ylabel(\"coherence score\")\n",
    "plt.show()"
   ]
  }
 ],
 "metadata": {
  "kernelspec": {
   "display_name": "Python 3.6.10 64-bit ('python36': conda)",
   "language": "python",
   "name": "python361064bitpython36conda0889d03c11834cf7a5886811ff70ea1b"
  },
  "language_info": {
   "codemirror_mode": {
    "name": "ipython",
    "version": 3
   },
   "file_extension": ".py",
   "mimetype": "text/x-python",
   "name": "python",
   "nbconvert_exporter": "python",
   "pygments_lexer": "ipython3",
   "version": "3.6.10"
  }
 },
 "nbformat": 4,
 "nbformat_minor": 4
}
